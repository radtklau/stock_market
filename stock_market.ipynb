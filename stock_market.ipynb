{
 "cells": [
  {
   "cell_type": "markdown",
   "metadata": {},
   "source": [
    "What is the best economic domain/industry to invest in (return, risk, stability)? Over all countries, over specific countries/world regions\n",
    "\n",
    "How is best defined?\n",
    "Return, risk, stability\n",
    "\n",
    "Examine a major industries (food, financial, health etc) and determine a goodness score consisting of return, stability and risk\n",
    "\n",
    "Examine these industries in general and divided by regions etc\n",
    "(If you are in Africa it is best to invest here etc)"
   ]
  },
  {
   "cell_type": "markdown",
   "metadata": {},
   "source": [
    "Focus on s&p 500\n",
    "1. analyse different industries in s&p 500"
   ]
  },
  {
   "cell_type": "code",
   "execution_count": null,
   "metadata": {},
   "outputs": [],
   "source": [
    "print(\"hello world\")"
   ]
  }
 ],
 "metadata": {
  "kernelspec": {
   "display_name": "Python 3",
   "language": "python",
   "name": "python3"
  },
  "language_info": {
   "codemirror_mode": {
    "name": "ipython",
    "version": 3
   },
   "file_extension": ".py",
   "mimetype": "text/x-python",
   "name": "python",
   "nbconvert_exporter": "python",
   "pygments_lexer": "ipython3",
   "version": "3.10.7"
  }
 },
 "nbformat": 4,
 "nbformat_minor": 2
}
